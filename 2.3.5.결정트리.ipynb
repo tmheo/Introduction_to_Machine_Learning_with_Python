{
 "cells": [
  {
   "cell_type": "code",
   "execution_count": 2,
   "metadata": {
    "collapsed": false
   },
   "outputs": [
    {
     "name": "stdout",
     "output_type": "stream",
     "text": [
      "Python Version: 3.5.3 |Anaconda custom (x86_64)| (default, Mar  6 2017, 12:15:08) \n",
      "[GCC 4.2.1 Compatible Apple LLVM 6.0 (clang-600.0.57)]\n",
      "pandas version: 0.20.3\n",
      "matplotlib version: 2.0.2\n",
      "numpy version: 1.13.1\n",
      "scipy version: 0.19.1\n",
      "ipython version: 6.0.0\n",
      "scikit-learn version: 0.18.2\n"
     ]
    }
   ],
   "source": [
    "%matplotlib inline\n",
    "import sys\n",
    "print('Python Version: {}'.format(sys.version))\n",
    "\n",
    "import pandas as pd\n",
    "print('pandas version: {}'.format(pd.__version__))\n",
    "\n",
    "import matplotlib\n",
    "print('matplotlib version: {}'.format(matplotlib.__version__))\n",
    "\n",
    "import numpy as np\n",
    "print('numpy version: {}'.format(np.__version__))\n",
    "\n",
    "import scipy as sp\n",
    "print('scipy version: {}'.format(sp.__version__))\n",
    "\n",
    "import IPython\n",
    "print('ipython version: {}'.format(IPython.__version__))\n",
    "\n",
    "import sklearn\n",
    "print('scikit-learn version: {}'.format(sklearn.__version__))\n",
    "\n",
    "import matplotlib.pyplot as plt\n",
    "\n",
    "# 그래프에서 마이너스 폰트 깨지는 문제에 대한 대처\n",
    "matplotlib.rcParams['axes.unicode_minus'] = False\n",
    "\n",
    "# 한글 폰트 설정\n",
    "plt.rcParams[\"font.family\"] = 'AppleGothic'\n",
    "\n",
    "import mglearn"
   ]
  },
  {
   "cell_type": "code",
   "execution_count": 3,
   "metadata": {
    "collapsed": false
   },
   "outputs": [
    {
     "data": {
      "image/png": "[encoded data removed]",
      "text/plain": [
       "<matplotlib.figure.Figure at 0x10332bef0>"
      ]
     },
     "metadata": {},
     "output_type": "display_data"
    }
   ],
   "source": [
    "mglearn.plots.plot_animal_tree()"
   ]
  },
  {
   "cell_type": "code",
   "execution_count": 4,
   "metadata": {
    "collapsed": false
   },
   "outputs": [
    {
     "name": "stdout",
     "output_type": "stream",
     "text": [
      "훈련 세트 정확도: 1.000\n",
      "테스트 세트 정확도: 0.937\n"
     ]
    }
   ],
   "source": [
    "from sklearn.model_selection import train_test_split\n",
    "from sklearn.tree import DecisionTreeClassifier\n",
    "from sklearn.datasets import load_breast_cancer\n",
    "\n",
    "cancer = load_breast_cancer()\n",
    "X_train, X_test, y_train, y_test = train_test_split(cancer.data, cancer.target, stratify=cancer.target, random_state=42)\n",
    "tree = DecisionTreeClassifier(random_state=0)\n",
    "tree.fit(X_train, y_train)\n",
    "\n",
    "print('훈련 세트 정확도: {:.3f}'.format(tree.score(X_train, y_train)))\n",
    "print('테스트 세트 정확도: {:.3f}'.format(tree.score(X_test, y_test)))"
   ]
  },
  {
   "cell_type": "code",
   "execution_count": 5,
   "metadata": {
    "collapsed": false
   },
   "outputs": [
    {
     "name": "stdout",
     "output_type": "stream",
     "text": [
      "훈련 세트 정확도: 0.988\n",
      "테스트 세트 정확도: 0.951\n"
     ]
    }
   ],
   "source": [
    "tree = DecisionTreeClassifier(max_depth=4, random_state=0)\n",
    "tree.fit(X_train, y_train)\n",
    "\n",
    "print('훈련 세트 정확도: {:.3f}'.format(tree.score(X_train, y_train)))\n",
    "print('테스트 세트 정확도: {:.3f}'.format(tree.score(X_test, y_test)))"
   ]
  },
  {
   "cell_type": "code",
   "execution_count": 6,
   "metadata": {
    "collapsed": true
   },
   "outputs": [],
   "source": [
    "from sklearn.tree import export_graphviz\n",
    "\n",
    "export_graphviz(tree, out_file='tree.dot', class_names=['악성', '양성'],\n",
    "               feature_names=cancer.feature_names, impurity=False, filled=True)"
   ]
  },
  {
   "cell_type": "code",
   "execution_count": 8,
   "metadata": {
    "collapsed": false
   },
   "outputs": [
    {
     "data": {
      "image/svg+xml": [
       "<?xml version=\"1.0\" encoding=\"UTF-8\" standalone=\"no\"?>\n",
       "<!DOCTYPE svg PUBLIC \"-//W3C//DTD SVG 1.1//EN\"\n",
       " \"http://www.w3.org/Graphics/SVG/1.1/DTD/svg11.dtd\">\n",
       "<!-- Generated by graphviz version 2.38.0 (20140413.2041)\n",
       " -->\n",
       "<!-- Title: Tree Pages: 1 -->\n",
       "<svg width=\"1014pt\" height=\"471pt\"\n",
       " viewBox=\"0.00 0.00 1013.54 471.11\" xmlns=\"http://www.w3.org/2000/svg\" xmlns:xlink=\"http://www.w3.org/1999/xlink\">\n",
       "<g id=\"graph0\" class=\"graph\" transform=\"scale(1 1) rotate(0) translate(4 467.112)\">\n",
       "<title>Tree</title>\n",
       "<polygon fill=\"white\" stroke=\"none\" points=\"-4,4 -4,-467.112 1009.54,-467.112 1009.54,4 -4,4\"/>\n",
       "<!-- 0 -->\n",
       "<g id=\"node1\" class=\"node\"><title>0</title>\n",
       "<polygon fill=\"#399de5\" fill-opacity=\"0.403922\" stroke=\"black\" points=\"623.884,-462.924 477.653,-462.924 477.653,-396.677 623.884,-396.677 623.884,-462.924\"/>\n",
       "<text text-anchor=\"middle\" x=\"550.769\" y=\"-447.912\" font-family=\"Times,serif\" font-size=\"14.00\">worst radius &lt;= 16.795</text>\n",
       "<text text-anchor=\"middle\" x=\"550.769\" y=\"-433.912\" font-family=\"Times,serif\" font-size=\"14.00\">samples = 426</text>\n",
       "<text text-anchor=\"middle\" x=\"550.769\" y=\"-419.912\" font-family=\"Times,serif\" font-size=\"14.00\">value = [159, 267]</text>\n",
       "<text text-anchor=\"middle\" x=\"550.769\" y=\"-405.912\" font-family=\"Times,serif\" font-size=\"14.00\">class = 양성</text>\n",
       "</g>\n",
       "<!-- 1 -->\n",
       "<g id=\"node2\" class=\"node\"><title>1</title>\n",
       "<polygon fill=\"#399de5\" fill-opacity=\"0.901961\" stroke=\"black\" points=\"551.754,-360.302 355.784,-360.302 355.784,-294.055 551.754,-294.055 551.754,-360.302\"/>\n",
       "<text text-anchor=\"middle\" x=\"453.769\" y=\"-345.29\" font-family=\"Times,serif\" font-size=\"14.00\">worst concave points &lt;= 0.1359</text>\n",
       "<text text-anchor=\"middle\" x=\"453.769\" y=\"-331.29\" font-family=\"Times,serif\" font-size=\"14.00\">samples = 284</text>\n",
       "<text text-anchor=\"middle\" x=\"453.769\" y=\"-317.29\" font-family=\"Times,serif\" font-size=\"14.00\">value = [25, 259]</text>\n",
       "<text text-anchor=\"middle\" x=\"453.769\" y=\"-303.29\" font-family=\"Times,serif\" font-size=\"14.00\">class = 양성</text>\n",
       "</g>\n",
       "<!-- 0&#45;&gt;1 -->\n",
       "<g id=\"edge1\" class=\"edge\"><title>0&#45;&gt;1</title>\n",
       "<path fill=\"none\" stroke=\"black\" d=\"M519.543,-396.41C510.803,-387.343 501.202,-377.383 492.101,-367.942\"/>\n",
       "<polygon fill=\"black\" stroke=\"black\" points=\"494.396,-365.28 484.935,-360.509 489.356,-370.138 494.396,-365.28\"/>\n",
       "<text text-anchor=\"middle\" x=\"484.477\" y=\"-381.305\" font-family=\"Times,serif\" font-size=\"14.00\">True</text>\n",
       "</g>\n",
       "<!-- 14 -->\n",
       "<g id=\"node15\" class=\"node\"><title>14</title>\n",
       "<polygon fill=\"#e58139\" fill-opacity=\"0.941176\" stroke=\"black\" points=\"722.129,-360.302 575.408,-360.302 575.408,-294.055 722.129,-294.055 722.129,-360.302\"/>\n",
       "<text text-anchor=\"middle\" x=\"648.769\" y=\"-345.29\" font-family=\"Times,serif\" font-size=\"14.00\">texture error &lt;= 0.4732</text>\n",
       "<text text-anchor=\"middle\" x=\"648.769\" y=\"-331.29\" font-family=\"Times,serif\" font-size=\"14.00\">samples = 142</text>\n",
       "<text text-anchor=\"middle\" x=\"648.769\" y=\"-317.29\" font-family=\"Times,serif\" font-size=\"14.00\">value = [134, 8]</text>\n",
       "<text text-anchor=\"middle\" x=\"648.769\" y=\"-303.29\" font-family=\"Times,serif\" font-size=\"14.00\">class = 악성</text>\n",
       "</g>\n",
       "<!-- 0&#45;&gt;14 -->\n",
       "<g id=\"edge14\" class=\"edge\"><title>0&#45;&gt;14</title>\n",
       "<path fill=\"none\" stroke=\"black\" d=\"M582.316,-396.41C591.146,-387.343 600.846,-377.383 610.041,-367.942\"/>\n",
       "<polygon fill=\"black\" stroke=\"black\" points=\"612.811,-370.115 617.28,-360.509 607.796,-365.231 612.811,-370.115\"/>\n",
       "<text text-anchor=\"middle\" x=\"617.61\" y=\"-381.307\" font-family=\"Times,serif\" font-size=\"14.00\">False</text>\n",
       "</g>\n",
       "<!-- 2 -->\n",
       "<g id=\"node3\" class=\"node\"><title>2</title>\n",
       "<polygon fill=\"#399de5\" fill-opacity=\"0.984314\" stroke=\"black\" points=\"357.974,-257.68 215.563,-257.68 215.563,-191.433 357.974,-191.433 357.974,-257.68\"/>\n",
       "<text text-anchor=\"middle\" x=\"286.769\" y=\"-242.667\" font-family=\"Times,serif\" font-size=\"14.00\">radius error &lt;= 1.0475</text>\n",
       "<text text-anchor=\"middle\" x=\"286.769\" y=\"-228.667\" font-family=\"Times,serif\" font-size=\"14.00\">samples = 252</text>\n",
       "<text text-anchor=\"middle\" x=\"286.769\" y=\"-214.667\" font-family=\"Times,serif\" font-size=\"14.00\">value = [4, 248]</text>\n",
       "<text text-anchor=\"middle\" x=\"286.769\" y=\"-200.667\" font-family=\"Times,serif\" font-size=\"14.00\">class = 양성</text>\n",
       "</g>\n",
       "<!-- 1&#45;&gt;2 -->\n",
       "<g id=\"edge2\" class=\"edge\"><title>1&#45;&gt;2</title>\n",
       "<path fill=\"none\" stroke=\"black\" d=\"M400.009,-293.787C383.689,-283.953 365.625,-273.069 348.807,-262.936\"/>\n",
       "<polygon fill=\"black\" stroke=\"black\" points=\"350.513,-259.878 340.141,-257.715 346.9,-265.873 350.513,-259.878\"/>\n",
       "</g>\n",
       "<!-- 7 -->\n",
       "<g id=\"node8\" class=\"node\"><title>7</title>\n",
       "<polygon fill=\"#e58139\" fill-opacity=\"0.474510\" stroke=\"black\" points=\"525.539,-257.68 381.998,-257.68 381.998,-191.433 525.539,-191.433 525.539,-257.68\"/>\n",
       "<text text-anchor=\"middle\" x=\"453.769\" y=\"-242.667\" font-family=\"Times,serif\" font-size=\"14.00\">worst texture &lt;= 25.62</text>\n",
       "<text text-anchor=\"middle\" x=\"453.769\" y=\"-228.667\" font-family=\"Times,serif\" font-size=\"14.00\">samples = 32</text>\n",
       "<text text-anchor=\"middle\" x=\"453.769\" y=\"-214.667\" font-family=\"Times,serif\" font-size=\"14.00\">value = [21, 11]</text>\n",
       "<text text-anchor=\"middle\" x=\"453.769\" y=\"-200.667\" font-family=\"Times,serif\" font-size=\"14.00\">class = 악성</text>\n",
       "</g>\n",
       "<!-- 1&#45;&gt;7 -->\n",
       "<g id=\"edge7\" class=\"edge\"><title>1&#45;&gt;7</title>\n",
       "<path fill=\"none\" stroke=\"black\" d=\"M453.769,-293.787C453.769,-285.618 453.769,-276.724 453.769,-268.138\"/>\n",
       "<polygon fill=\"black\" stroke=\"black\" points=\"457.269,-267.887 453.769,-257.887 450.269,-267.887 457.269,-267.887\"/>\n",
       "</g>\n",
       "<!-- 3 -->\n",
       "<g id=\"node4\" class=\"node\"><title>3</title>\n",
       "<polygon fill=\"#399de5\" fill-opacity=\"0.988235\" stroke=\"black\" points=\"223.598,-155.057 49.9391,-155.057 49.9391,-88.8102 223.598,-88.8102 223.598,-155.057\"/>\n",
       "<text text-anchor=\"middle\" x=\"136.769\" y=\"-140.045\" font-family=\"Times,serif\" font-size=\"14.00\">smoothness error &lt;= 0.0033</text>\n",
       "<text text-anchor=\"middle\" x=\"136.769\" y=\"-126.045\" font-family=\"Times,serif\" font-size=\"14.00\">samples = 251</text>\n",
       "<text text-anchor=\"middle\" x=\"136.769\" y=\"-112.045\" font-family=\"Times,serif\" font-size=\"14.00\">value = [3, 248]</text>\n",
       "<text text-anchor=\"middle\" x=\"136.769\" y=\"-98.0449\" font-family=\"Times,serif\" font-size=\"14.00\">class = 양성</text>\n",
       "</g>\n",
       "<!-- 2&#45;&gt;3 -->\n",
       "<g id=\"edge3\" class=\"edge\"><title>2&#45;&gt;3</title>\n",
       "<path fill=\"none\" stroke=\"black\" d=\"M238.482,-191.165C224.092,-181.511 208.192,-170.846 193.324,-160.872\"/>\n",
       "<polygon fill=\"black\" stroke=\"black\" points=\"194.962,-157.757 184.708,-155.092 191.063,-163.57 194.962,-157.757\"/>\n",
       "</g>\n",
       "<!-- 6 -->\n",
       "<g id=\"node7\" class=\"node\"><title>6</title>\n",
       "<polygon fill=\"#e58139\" stroke=\"black\" points=\"332.307,-148.057 241.23,-148.057 241.23,-95.8099 332.307,-95.8099 332.307,-148.057\"/>\n",
       "<text text-anchor=\"middle\" x=\"286.769\" y=\"-133.045\" font-family=\"Times,serif\" font-size=\"14.00\">samples = 1</text>\n",
       "<text text-anchor=\"middle\" x=\"286.769\" y=\"-119.045\" font-family=\"Times,serif\" font-size=\"14.00\">value = [1, 0]</text>\n",
       "<text text-anchor=\"middle\" x=\"286.769\" y=\"-105.045\" font-family=\"Times,serif\" font-size=\"14.00\">class = 악성</text>\n",
       "</g>\n",
       "<!-- 2&#45;&gt;6 -->\n",
       "<g id=\"edge6\" class=\"edge\"><title>2&#45;&gt;6</title>\n",
       "<path fill=\"none\" stroke=\"black\" d=\"M286.769,-191.165C286.769,-180.737 286.769,-169.128 286.769,-158.486\"/>\n",
       "<polygon fill=\"black\" stroke=\"black\" points=\"290.269,-158.246 286.769,-148.246 283.269,-158.246 290.269,-158.246\"/>\n",
       "</g>\n",
       "<!-- 4 -->\n",
       "<g id=\"node5\" class=\"node\"><title>4</title>\n",
       "<polygon fill=\"#399de5\" fill-opacity=\"0.666667\" stroke=\"black\" points=\"91.3068,-52.435 0.230281,-52.435 0.230281,-0.187437 91.3068,-0.187437 91.3068,-52.435\"/>\n",
       "<text text-anchor=\"middle\" x=\"45.7686\" y=\"-37.4224\" font-family=\"Times,serif\" font-size=\"14.00\">samples = 4</text>\n",
       "<text text-anchor=\"middle\" x=\"45.7686\" y=\"-23.4224\" font-family=\"Times,serif\" font-size=\"14.00\">value = [1, 3]</text>\n",
       "<text text-anchor=\"middle\" x=\"45.7686\" y=\"-9.42244\" font-family=\"Times,serif\" font-size=\"14.00\">class = 양성</text>\n",
       "</g>\n",
       "<!-- 3&#45;&gt;4 -->\n",
       "<g id=\"edge4\" class=\"edge\"><title>3&#45;&gt;4</title>\n",
       "<path fill=\"none\" stroke=\"black\" d=\"M105.452,-88.7141C96.3644,-79.3651 86.4387,-69.1534 77.3363,-59.7887\"/>\n",
       "<polygon fill=\"black\" stroke=\"black\" points=\"79.7244,-57.224 70.2446,-52.4927 74.7048,-62.103 79.7244,-57.224\"/>\n",
       "</g>\n",
       "<!-- 5 -->\n",
       "<g id=\"node6\" class=\"node\"><title>5</title>\n",
       "<polygon fill=\"#399de5\" fill-opacity=\"0.992157\" stroke=\"black\" points=\"215.307,-52.435 110.23,-52.435 110.23,-0.187437 215.307,-0.187437 215.307,-52.435\"/>\n",
       "<text text-anchor=\"middle\" x=\"162.769\" y=\"-37.4224\" font-family=\"Times,serif\" font-size=\"14.00\">samples = 247</text>\n",
       "<text text-anchor=\"middle\" x=\"162.769\" y=\"-23.4224\" font-family=\"Times,serif\" font-size=\"14.00\">value = [2, 245]</text>\n",
       "<text text-anchor=\"middle\" x=\"162.769\" y=\"-9.42244\" font-family=\"Times,serif\" font-size=\"14.00\">class = 양성</text>\n",
       "</g>\n",
       "<!-- 3&#45;&gt;5 -->\n",
       "<g id=\"edge5\" class=\"edge\"><title>3&#45;&gt;5</title>\n",
       "<path fill=\"none\" stroke=\"black\" d=\"M145.716,-88.7141C148.081,-80.1982 150.645,-70.9665 153.049,-62.3111\"/>\n",
       "<polygon fill=\"black\" stroke=\"black\" points=\"156.472,-63.0646 155.775,-52.4927 149.727,-61.1914 156.472,-63.0646\"/>\n",
       "</g>\n",
       "<!-- 8 -->\n",
       "<g id=\"node9\" class=\"node\"><title>8</title>\n",
       "<polygon fill=\"#399de5\" fill-opacity=\"0.666667\" stroke=\"black\" points=\"527.508,-155.057 350.029,-155.057 350.029,-88.8102 527.508,-88.8102 527.508,-155.057\"/>\n",
       "<text text-anchor=\"middle\" x=\"438.769\" y=\"-140.045\" font-family=\"Times,serif\" font-size=\"14.00\">worst smoothness &lt;= 0.1786</text>\n",
       "<text text-anchor=\"middle\" x=\"438.769\" y=\"-126.045\" font-family=\"Times,serif\" font-size=\"14.00\">samples = 12</text>\n",
       "<text text-anchor=\"middle\" x=\"438.769\" y=\"-112.045\" font-family=\"Times,serif\" font-size=\"14.00\">value = [3, 9]</text>\n",
       "<text text-anchor=\"middle\" x=\"438.769\" y=\"-98.0449\" font-family=\"Times,serif\" font-size=\"14.00\">class = 양성</text>\n",
       "</g>\n",
       "<!-- 7&#45;&gt;8 -->\n",
       "<g id=\"edge8\" class=\"edge\"><title>7&#45;&gt;8</title>\n",
       "<path fill=\"none\" stroke=\"black\" d=\"M448.94,-191.165C447.709,-182.906 446.367,-173.906 445.074,-165.233\"/>\n",
       "<polygon fill=\"black\" stroke=\"black\" points=\"448.524,-164.639 443.588,-155.264 441.601,-165.671 448.524,-164.639\"/>\n",
       "</g>\n",
       "<!-- 11 -->\n",
       "<g id=\"node12\" class=\"node\"><title>11</title>\n",
       "<polygon fill=\"#e58139\" fill-opacity=\"0.890196\" stroke=\"black\" points=\"713.663,-155.057 545.874,-155.057 545.874,-88.8102 713.663,-88.8102 713.663,-155.057\"/>\n",
       "<text text-anchor=\"middle\" x=\"629.769\" y=\"-140.045\" font-family=\"Times,serif\" font-size=\"14.00\">worst symmetry &lt;= 0.2682</text>\n",
       "<text text-anchor=\"middle\" x=\"629.769\" y=\"-126.045\" font-family=\"Times,serif\" font-size=\"14.00\">samples = 20</text>\n",
       "<text text-anchor=\"middle\" x=\"629.769\" y=\"-112.045\" font-family=\"Times,serif\" font-size=\"14.00\">value = [18, 2]</text>\n",
       "<text text-anchor=\"middle\" x=\"629.769\" y=\"-98.0449\" font-family=\"Times,serif\" font-size=\"14.00\">class = 악성</text>\n",
       "</g>\n",
       "<!-- 7&#45;&gt;11 -->\n",
       "<g id=\"edge11\" class=\"edge\"><title>7&#45;&gt;11</title>\n",
       "<path fill=\"none\" stroke=\"black\" d=\"M510.425,-191.165C527.625,-181.331 546.663,-170.447 564.387,-160.313\"/>\n",
       "<polygon fill=\"black\" stroke=\"black\" points=\"566.575,-163.094 573.52,-155.092 563.101,-157.017 566.575,-163.094\"/>\n",
       "</g>\n",
       "<!-- 9 -->\n",
       "<g id=\"node10\" class=\"node\"><title>9</title>\n",
       "<polygon fill=\"#399de5\" fill-opacity=\"0.890196\" stroke=\"black\" points=\"378.307,-52.435 287.23,-52.435 287.23,-0.187437 378.307,-0.187437 378.307,-52.435\"/>\n",
       "<text text-anchor=\"middle\" x=\"332.769\" y=\"-37.4224\" font-family=\"Times,serif\" font-size=\"14.00\">samples = 10</text>\n",
       "<text text-anchor=\"middle\" x=\"332.769\" y=\"-23.4224\" font-family=\"Times,serif\" font-size=\"14.00\">value = [1, 9]</text>\n",
       "<text text-anchor=\"middle\" x=\"332.769\" y=\"-9.42244\" font-family=\"Times,serif\" font-size=\"14.00\">class = 양성</text>\n",
       "</g>\n",
       "<!-- 8&#45;&gt;9 -->\n",
       "<g id=\"edge9\" class=\"edge\"><title>8&#45;&gt;9</title>\n",
       "<path fill=\"none\" stroke=\"black\" d=\"M402.289,-88.7141C391.495,-79.18 379.684,-68.7486 368.911,-59.2334\"/>\n",
       "<polygon fill=\"black\" stroke=\"black\" points=\"371.091,-56.4893 361.279,-52.4927 366.457,-61.7359 371.091,-56.4893\"/>\n",
       "</g>\n",
       "<!-- 10 -->\n",
       "<g id=\"node11\" class=\"node\"><title>10</title>\n",
       "<polygon fill=\"#e58139\" stroke=\"black\" points=\"488.307,-52.435 397.23,-52.435 397.23,-0.187437 488.307,-0.187437 488.307,-52.435\"/>\n",
       "<text text-anchor=\"middle\" x=\"442.769\" y=\"-37.4224\" font-family=\"Times,serif\" font-size=\"14.00\">samples = 2</text>\n",
       "<text text-anchor=\"middle\" x=\"442.769\" y=\"-23.4224\" font-family=\"Times,serif\" font-size=\"14.00\">value = [2, 0]</text>\n",
       "<text text-anchor=\"middle\" x=\"442.769\" y=\"-9.42244\" font-family=\"Times,serif\" font-size=\"14.00\">class = 악성</text>\n",
       "</g>\n",
       "<!-- 8&#45;&gt;10 -->\n",
       "<g id=\"edge10\" class=\"edge\"><title>8&#45;&gt;10</title>\n",
       "<path fill=\"none\" stroke=\"black\" d=\"M440.145,-88.7141C440.505,-80.2908 440.895,-71.1671 441.261,-62.5935\"/>\n",
       "<polygon fill=\"black\" stroke=\"black\" points=\"444.763,-62.633 441.693,-52.4927 437.769,-62.3341 444.763,-62.633\"/>\n",
       "</g>\n",
       "<!-- 12 -->\n",
       "<g id=\"node13\" class=\"node\"><title>12</title>\n",
       "<polygon fill=\"#399de5\" fill-opacity=\"0.498039\" stroke=\"black\" points=\"614.307,-52.435 523.23,-52.435 523.23,-0.187437 614.307,-0.187437 614.307,-52.435\"/>\n",
       "<text text-anchor=\"middle\" x=\"568.769\" y=\"-37.4224\" font-family=\"Times,serif\" font-size=\"14.00\">samples = 3</text>\n",
       "<text text-anchor=\"middle\" x=\"568.769\" y=\"-23.4224\" font-family=\"Times,serif\" font-size=\"14.00\">value = [1, 2]</text>\n",
       "<text text-anchor=\"middle\" x=\"568.769\" y=\"-9.42244\" font-family=\"Times,serif\" font-size=\"14.00\">class = 양성</text>\n",
       "</g>\n",
       "<!-- 11&#45;&gt;12 -->\n",
       "<g id=\"edge12\" class=\"edge\"><title>11&#45;&gt;12</title>\n",
       "<path fill=\"none\" stroke=\"black\" d=\"M608.776,-88.7141C602.926,-79.7354 596.557,-69.9609 590.657,-60.9052\"/>\n",
       "<polygon fill=\"black\" stroke=\"black\" points=\"593.567,-58.9605 585.176,-52.4927 587.702,-62.7818 593.567,-58.9605\"/>\n",
       "</g>\n",
       "<!-- 13 -->\n",
       "<g id=\"node14\" class=\"node\"><title>13</title>\n",
       "<polygon fill=\"#e58139\" stroke=\"black\" points=\"730.807,-52.435 632.73,-52.435 632.73,-0.187437 730.807,-0.187437 730.807,-52.435\"/>\n",
       "<text text-anchor=\"middle\" x=\"681.769\" y=\"-37.4224\" font-family=\"Times,serif\" font-size=\"14.00\">samples = 17</text>\n",
       "<text text-anchor=\"middle\" x=\"681.769\" y=\"-23.4224\" font-family=\"Times,serif\" font-size=\"14.00\">value = [17, 0]</text>\n",
       "<text text-anchor=\"middle\" x=\"681.769\" y=\"-9.42244\" font-family=\"Times,serif\" font-size=\"14.00\">class = 악성</text>\n",
       "</g>\n",
       "<!-- 11&#45;&gt;13 -->\n",
       "<g id=\"edge13\" class=\"edge\"><title>11&#45;&gt;13</title>\n",
       "<path fill=\"none\" stroke=\"black\" d=\"M647.664,-88.7141C652.548,-79.9205 657.856,-70.3636 662.798,-61.4663\"/>\n",
       "<polygon fill=\"black\" stroke=\"black\" points=\"665.986,-62.9342 667.782,-52.4927 659.867,-59.5353 665.986,-62.9342\"/>\n",
       "</g>\n",
       "<!-- 15 -->\n",
       "<g id=\"node16\" class=\"node\"><title>15</title>\n",
       "<polygon fill=\"#399de5\" stroke=\"black\" points=\"694.307,-250.68 603.23,-250.68 603.23,-198.432 694.307,-198.432 694.307,-250.68\"/>\n",
       "<text text-anchor=\"middle\" x=\"648.769\" y=\"-235.667\" font-family=\"Times,serif\" font-size=\"14.00\">samples = 5</text>\n",
       "<text text-anchor=\"middle\" x=\"648.769\" y=\"-221.667\" font-family=\"Times,serif\" font-size=\"14.00\">value = [0, 5]</text>\n",
       "<text text-anchor=\"middle\" x=\"648.769\" y=\"-207.667\" font-family=\"Times,serif\" font-size=\"14.00\">class = 양성</text>\n",
       "</g>\n",
       "<!-- 14&#45;&gt;15 -->\n",
       "<g id=\"edge15\" class=\"edge\"><title>14&#45;&gt;15</title>\n",
       "<path fill=\"none\" stroke=\"black\" d=\"M648.769,-293.787C648.769,-283.36 648.769,-271.751 648.769,-261.109\"/>\n",
       "<polygon fill=\"black\" stroke=\"black\" points=\"652.269,-260.868 648.769,-250.868 645.269,-260.868 652.269,-260.868\"/>\n",
       "</g>\n",
       "<!-- 16 -->\n",
       "<g id=\"node17\" class=\"node\"><title>16</title>\n",
       "<polygon fill=\"#e58139\" fill-opacity=\"0.976471\" stroke=\"black\" points=\"890.091,-257.68 723.446,-257.68 723.446,-191.433 890.091,-191.433 890.091,-257.68\"/>\n",
       "<text text-anchor=\"middle\" x=\"806.769\" y=\"-242.667\" font-family=\"Times,serif\" font-size=\"14.00\">worst concavity &lt;= 0.1907</text>\n",
       "<text text-anchor=\"middle\" x=\"806.769\" y=\"-228.667\" font-family=\"Times,serif\" font-size=\"14.00\">samples = 137</text>\n",
       "<text text-anchor=\"middle\" x=\"806.769\" y=\"-214.667\" font-family=\"Times,serif\" font-size=\"14.00\">value = [134, 3]</text>\n",
       "<text text-anchor=\"middle\" x=\"806.769\" y=\"-200.667\" font-family=\"Times,serif\" font-size=\"14.00\">class = 악성</text>\n",
       "</g>\n",
       "<!-- 14&#45;&gt;16 -->\n",
       "<g id=\"edge16\" class=\"edge\"><title>14&#45;&gt;16</title>\n",
       "<path fill=\"none\" stroke=\"black\" d=\"M699.63,-293.787C714.93,-284.044 731.849,-273.269 747.636,-263.215\"/>\n",
       "<polygon fill=\"black\" stroke=\"black\" points=\"749.718,-266.039 756.272,-257.715 745.957,-260.134 749.718,-266.039\"/>\n",
       "</g>\n",
       "<!-- 17 -->\n",
       "<g id=\"node18\" class=\"node\"><title>17</title>\n",
       "<polygon fill=\"#399de5\" fill-opacity=\"0.333333\" stroke=\"black\" points=\"882.039,-155.057 731.498,-155.057 731.498,-88.8102 882.039,-88.8102 882.039,-155.057\"/>\n",
       "<text text-anchor=\"middle\" x=\"806.769\" y=\"-140.045\" font-family=\"Times,serif\" font-size=\"14.00\">worst texture &lt;= 30.975</text>\n",
       "<text text-anchor=\"middle\" x=\"806.769\" y=\"-126.045\" font-family=\"Times,serif\" font-size=\"14.00\">samples = 5</text>\n",
       "<text text-anchor=\"middle\" x=\"806.769\" y=\"-112.045\" font-family=\"Times,serif\" font-size=\"14.00\">value = [2, 3]</text>\n",
       "<text text-anchor=\"middle\" x=\"806.769\" y=\"-98.0449\" font-family=\"Times,serif\" font-size=\"14.00\">class = 양성</text>\n",
       "</g>\n",
       "<!-- 16&#45;&gt;17 -->\n",
       "<g id=\"edge17\" class=\"edge\"><title>16&#45;&gt;17</title>\n",
       "<path fill=\"none\" stroke=\"black\" d=\"M806.769,-191.165C806.769,-182.996 806.769,-174.102 806.769,-165.516\"/>\n",
       "<polygon fill=\"black\" stroke=\"black\" points=\"810.269,-165.264 806.769,-155.264 803.269,-165.264 810.269,-165.264\"/>\n",
       "</g>\n",
       "<!-- 20 -->\n",
       "<g id=\"node21\" class=\"node\"><title>20</title>\n",
       "<polygon fill=\"#e58139\" stroke=\"black\" points=\"1005.31,-148.057 900.23,-148.057 900.23,-95.8099 1005.31,-95.8099 1005.31,-148.057\"/>\n",
       "<text text-anchor=\"middle\" x=\"952.769\" y=\"-133.045\" font-family=\"Times,serif\" font-size=\"14.00\">samples = 132</text>\n",
       "<text text-anchor=\"middle\" x=\"952.769\" y=\"-119.045\" font-family=\"Times,serif\" font-size=\"14.00\">value = [132, 0]</text>\n",
       "<text text-anchor=\"middle\" x=\"952.769\" y=\"-105.045\" font-family=\"Times,serif\" font-size=\"14.00\">class = 악성</text>\n",
       "</g>\n",
       "<!-- 16&#45;&gt;20 -->\n",
       "<g id=\"edge20\" class=\"edge\"><title>16&#45;&gt;20</title>\n",
       "<path fill=\"none\" stroke=\"black\" d=\"M853.768,-191.165C870.946,-179.325 890.335,-165.963 907.371,-154.221\"/>\n",
       "<polygon fill=\"black\" stroke=\"black\" points=\"909.794,-156.802 916.041,-148.246 905.821,-151.039 909.794,-156.802\"/>\n",
       "</g>\n",
       "<!-- 18 -->\n",
       "<g id=\"node19\" class=\"node\"><title>18</title>\n",
       "<polygon fill=\"#399de5\" stroke=\"black\" points=\"848.307,-52.435 757.23,-52.435 757.23,-0.187437 848.307,-0.187437 848.307,-52.435\"/>\n",
       "<text text-anchor=\"middle\" x=\"802.769\" y=\"-37.4224\" font-family=\"Times,serif\" font-size=\"14.00\">samples = 3</text>\n",
       "<text text-anchor=\"middle\" x=\"802.769\" y=\"-23.4224\" font-family=\"Times,serif\" font-size=\"14.00\">value = [0, 3]</text>\n",
       "<text text-anchor=\"middle\" x=\"802.769\" y=\"-9.42244\" font-family=\"Times,serif\" font-size=\"14.00\">class = 양성</text>\n",
       "</g>\n",
       "<!-- 17&#45;&gt;18 -->\n",
       "<g id=\"edge18\" class=\"edge\"><title>17&#45;&gt;18</title>\n",
       "<path fill=\"none\" stroke=\"black\" d=\"M805.392,-88.7141C805.032,-80.2908 804.642,-71.1671 804.276,-62.5935\"/>\n",
       "<polygon fill=\"black\" stroke=\"black\" points=\"807.768,-62.3341 803.844,-52.4927 800.775,-62.633 807.768,-62.3341\"/>\n",
       "</g>\n",
       "<!-- 19 -->\n",
       "<g id=\"node20\" class=\"node\"><title>19</title>\n",
       "<polygon fill=\"#e58139\" stroke=\"black\" points=\"958.307,-52.435 867.23,-52.435 867.23,-0.187437 958.307,-0.187437 958.307,-52.435\"/>\n",
       "<text text-anchor=\"middle\" x=\"912.769\" y=\"-37.4224\" font-family=\"Times,serif\" font-size=\"14.00\">samples = 2</text>\n",
       "<text text-anchor=\"middle\" x=\"912.769\" y=\"-23.4224\" font-family=\"Times,serif\" font-size=\"14.00\">value = [2, 0]</text>\n",
       "<text text-anchor=\"middle\" x=\"912.769\" y=\"-9.42244\" font-family=\"Times,serif\" font-size=\"14.00\">class = 악성</text>\n",
       "</g>\n",
       "<!-- 17&#45;&gt;19 -->\n",
       "<g id=\"edge19\" class=\"edge\"><title>17&#45;&gt;19</title>\n",
       "<path fill=\"none\" stroke=\"black\" d=\"M843.248,-88.7141C854.042,-79.18 865.853,-68.7486 876.626,-59.2334\"/>\n",
       "<polygon fill=\"black\" stroke=\"black\" points=\"879.08,-61.7359 884.258,-52.4927 874.446,-56.4893 879.08,-61.7359\"/>\n",
       "</g>\n",
       "</g>\n",
       "</svg>\n"
      ],
      "text/plain": [
       "<graphviz.files.Source at 0x10e504c50>"
      ]
     },
     "execution_count": 8,
     "metadata": {},
     "output_type": "execute_result"
    }
   ],
   "source": [
    "import graphviz\n",
    "\n",
    "with open('tree.dot') as f:\n",
    "    dot_graph = f.read()\n",
    "graphviz.Source(dot_graph)"
   ]
  },
  {
   "cell_type": "code",
   "execution_count": 10,
   "metadata": {
    "collapsed": false
   },
   "outputs": [
    {
     "name": "stdout",
     "output_type": "stream",
     "text": [
      "특성 중요도:\n",
      "[ 0.          0.          0.          0.          0.          0.          0.\n",
      "  0.          0.          0.          0.01019737  0.04839825  0.          0.\n",
      "  0.0024156   0.          0.          0.          0.          0.\n",
      "  0.72682851  0.0458159   0.          0.          0.0141577   0.          0.018188\n",
      "  0.1221132   0.01188548  0.        ]\n"
     ]
    }
   ],
   "source": [
    "print('특성 중요도:\\n{}'.format(tree.feature_importances_))"
   ]
  },
  {
   "cell_type": "code",
   "execution_count": 12,
   "metadata": {
    "collapsed": false
   },
   "outputs": [
    {
     "data": {
      "image/png": "[encoded data removed]",
      "text/plain": [
       "<matplotlib.figure.Figure at 0x111b92a58>"
      ]
     },
     "metadata": {},
     "output_type": "display_data"
    }
   ],
   "source": [
    "def plot_feature_importances_cancer(model):\n",
    "    n_features = cancer.data.shape[1]\n",
    "    plt.barh(range(n_features), model.feature_importances_, align='center')\n",
    "    plt.yticks(np.arange(n_features), cancer.feature_names)\n",
    "    plt.xlabel('특성 중요도')\n",
    "    plt.ylabel('특성')\n",
    "    plt.ylim(-1, n_features)\n",
    "\n",
    "plot_feature_importances_cancer(tree)"
   ]
  },
  {
   "cell_type": "code",
   "execution_count": 13,
   "metadata": {
    "collapsed": false
   },
   "outputs": [
    {
     "name": "stdout",
     "output_type": "stream",
     "text": [
      "Feature importances: [ 0.  1.]\n"
     ]
    },
    {
     "data": {
      "image/png": "[encoded data removed]",
      "text/plain": [
       "<matplotlib.figure.Figure at 0x10e43a860>"
      ]
     },
     "metadata": {},
     "output_type": "display_data"
    }
   ],
   "source": [
    "tree = mglearn.plots.plot_tree_not_monotone()"
   ]
  },
  {
   "cell_type": "code",
   "execution_count": 15,
   "metadata": {
    "collapsed": false
   },
   "outputs": [
    {
     "data": {
      "text/plain": [
       "<matplotlib.text.Text at 0x115b91e10>"
      ]
     },
     "execution_count": 15,
     "metadata": {},
     "output_type": "execute_result"
    },
    {
     "name": "stderr",
     "output_type": "stream",
     "text": [
      "/Users/taemyung/anaconda/envs/py35/lib/python3.5/site-packages/matplotlib/mathtext.py:866: MathTextWarning: Font 'default' does not have a glyph for '-' [U+2212]\n",
      "  MathTextWarning)\n",
      "/Users/taemyung/anaconda/envs/py35/lib/python3.5/site-packages/matplotlib/mathtext.py:867: MathTextWarning: Substituting with a dummy symbol.\n",
      "  warn(\"Substituting with a dummy symbol.\", MathTextWarning)\n"
     ]
    },
    {
     "data": {
      "image/png": "[encoded data removed]",
      "text/plain": [
       "<matplotlib.figure.Figure at 0x111d53a58>"
      ]
     },
     "metadata": {},
     "output_type": "display_data"
    }
   ],
   "source": [
    "import pandas as pd\n",
    "import os\n",
    "\n",
    "ram_prices = pd.read_csv(os.path.join(mglearn.datasets.DATA_PATH, 'ram_price.csv'))\n",
    "\n",
    "plt.semilogy(ram_prices.date, ram_prices.price)\n",
    "plt.xlabel('년')\n",
    "plt.ylabel('가격 ($/Mbyte)')"
   ]
  },
  {
   "cell_type": "code",
   "execution_count": 17,
   "metadata": {
    "collapsed": false
   },
   "outputs": [
    {
     "data": {
      "text/html": [
       "<div>\n",
       "<style>\n",
       "    .dataframe thead tr:only-child th {\n",
       "        text-align: right;\n",
       "    }\n",
       "\n",
       "    .dataframe thead th {\n",
       "        text-align: left;\n",
       "    }\n",
       "\n",
       "    .dataframe tbody tr th {\n",
       "        vertical-align: top;\n",
       "    }\n",
       "</style>\n",
       "<table border=\"1\" class=\"dataframe\">\n",
       "  <thead>\n",
       "    <tr style=\"text-align: right;\">\n",
       "      <th></th>\n",
       "      <th>Unnamed: 0</th>\n",
       "      <th>date</th>\n",
       "      <th>price</th>\n",
       "    </tr>\n",
       "  </thead>\n",
       "  <tbody>\n",
       "    <tr>\n",
       "      <th>0</th>\n",
       "      <td>0</td>\n",
       "      <td>1957.0</td>\n",
       "      <td>411041792.0</td>\n",
       "    </tr>\n",
       "    <tr>\n",
       "      <th>1</th>\n",
       "      <td>1</td>\n",
       "      <td>1959.0</td>\n",
       "      <td>67947725.0</td>\n",
       "    </tr>\n",
       "    <tr>\n",
       "      <th>2</th>\n",
       "      <td>2</td>\n",
       "      <td>1960.0</td>\n",
       "      <td>5242880.0</td>\n",
       "    </tr>\n",
       "    <tr>\n",
       "      <th>3</th>\n",
       "      <td>3</td>\n",
       "      <td>1965.0</td>\n",
       "      <td>2642412.0</td>\n",
       "    </tr>\n",
       "    <tr>\n",
       "      <th>4</th>\n",
       "      <td>4</td>\n",
       "      <td>1970.0</td>\n",
       "      <td>734003.0</td>\n",
       "    </tr>\n",
       "  </tbody>\n",
       "</table>\n",
       "</div>"
      ],
      "text/plain": [
       "   Unnamed: 0    date        price\n",
       "0           0  1957.0  411041792.0\n",
       "1           1  1959.0   67947725.0\n",
       "2           2  1960.0    5242880.0\n",
       "3           3  1965.0    2642412.0\n",
       "4           4  1970.0     734003.0"
      ]
     },
     "execution_count": 17,
     "metadata": {},
     "output_type": "execute_result"
    }
   ],
   "source": [
    "ram_prices.head()"
   ]
  },
  {
   "cell_type": "code",
   "execution_count": 24,
   "metadata": {
    "collapsed": false
   },
   "outputs": [],
   "source": [
    "from sklearn.tree import DecisionTreeRegressor\n",
    "from sklearn.linear_model import LinearRegression\n",
    "\n",
    "data_train = ram_prices[ram_prices.date < 2000]\n",
    "data_test = ram_prices[ram_prices.date >= 2000]\n",
    "\n",
    "X_train = data_train.date[:, np.newaxis]\n",
    "y_train = np.log(data_train.price)"
   ]
  },
  {
   "cell_type": "code",
   "execution_count": 25,
   "metadata": {
    "collapsed": false
   },
   "outputs": [],
   "source": [
    "tree = DecisionTreeRegressor().fit(X_train, y_train)\n",
    "linear_reg = LinearRegression().fit(X_train, y_train)\n",
    "\n",
    "X_all = ram_prices.date[:, np.newaxis]"
   ]
  },
  {
   "cell_type": "code",
   "execution_count": 26,
   "metadata": {
    "collapsed": true
   },
   "outputs": [],
   "source": [
    "pred_tree = tree.predict(X_all)\n",
    "pred_lr = linear_reg.predict(X_all)\n",
    "\n",
    "price_tree = np.exp(pred_tree)\n",
    "price_lr = np.exp(pred_lr)"
   ]
  },
  {
   "cell_type": "code",
   "execution_count": 27,
   "metadata": {
    "collapsed": false
   },
   "outputs": [
    {
     "data": {
      "text/plain": [
       "<matplotlib.legend.Legend at 0x111bfaa58>"
      ]
     },
     "execution_count": 27,
     "metadata": {},
     "output_type": "execute_result"
    },
    {
     "name": "stderr",
     "output_type": "stream",
     "text": [
      "/Users/taemyung/anaconda/envs/py35/lib/python3.5/site-packages/matplotlib/mathtext.py:866: MathTextWarning: Font 'default' does not have a glyph for '-' [U+2212]\n",
      "  MathTextWarning)\n",
      "/Users/taemyung/anaconda/envs/py35/lib/python3.5/site-packages/matplotlib/mathtext.py:867: MathTextWarning: Substituting with a dummy symbol.\n",
      "  warn(\"Substituting with a dummy symbol.\", MathTextWarning)\n"
     ]
    },
    {
     "data": {
      "image/png": "[encoded data removed]",
      "text/plain": [
       "<matplotlib.figure.Figure at 0x111d6a1d0>"
      ]
     },
     "metadata": {},
     "output_type": "display_data"
    }
   ],
   "source": [
    "plt.semilogy(data_train.date, data_train.price, label='훈련 데이터')\n",
    "plt.semilogy(data_test.date, data_test.price, label='테스트 데이터')\n",
    "plt.semilogy(ram_prices.date, price_tree, label='트리 예측')\n",
    "plt.semilogy(ram_prices.date, price_lr, label='선형 회귀 예측')\n",
    "plt.legend()"
   ]
  },
  {
   "cell_type": "code",
   "execution_count": null,
   "metadata": {
    "collapsed": true
   },
   "outputs": [],
   "source": []
  }
 ],
 "metadata": {
  "kernelspec": {
   "display_name": "Python 3",
   "language": "python",
   "name": "python3"
  },
  "language_info": {
   "codemirror_mode": {
    "name": "ipython",
    "version": 3
   },
   "file_extension": ".py",
   "mimetype": "text/x-python",
   "name": "python",
   "nbconvert_exporter": "python",
   "pygments_lexer": "ipython3",
   "version": "3.5.3"
  }
 },
 "nbformat": 4,
 "nbformat_minor": 2
}
