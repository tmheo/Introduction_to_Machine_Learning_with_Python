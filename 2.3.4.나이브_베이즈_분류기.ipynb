{
 "cells": [
  {
   "cell_type": "code",
   "execution_count": 1,
   "metadata": {
    "collapsed": false
   },
   "outputs": [
    {
     "name": "stdout",
     "output_type": "stream",
     "text": [
      "Python Version: 3.5.3 |Anaconda custom (x86_64)| (default, Mar  6 2017, 12:15:08) \n",
      "[GCC 4.2.1 Compatible Apple LLVM 6.0 (clang-600.0.57)]\n",
      "pandas version: 0.20.3\n",
      "matplotlib version: 2.0.2\n",
      "numpy version: 1.13.1\n",
      "scipy version: 0.19.1\n",
      "ipython version: 6.0.0\n",
      "scikit-learn version: 0.18.2\n"
     ]
    }
   ],
   "source": [
    "%matplotlib inline\n",
    "import sys\n",
    "print('Python Version: {}'.format(sys.version))\n",
    "\n",
    "import pandas as pd\n",
    "print('pandas version: {}'.format(pd.__version__))\n",
    "\n",
    "import matplotlib\n",
    "print('matplotlib version: {}'.format(matplotlib.__version__))\n",
    "\n",
    "import numpy as np\n",
    "print('numpy version: {}'.format(np.__version__))\n",
    "\n",
    "import scipy as sp\n",
    "print('scipy version: {}'.format(sp.__version__))\n",
    "\n",
    "import IPython\n",
    "print('ipython version: {}'.format(IPython.__version__))\n",
    "\n",
    "import sklearn\n",
    "print('scikit-learn version: {}'.format(sklearn.__version__))\n",
    "\n",
    "import matplotlib.pyplot as plt\n",
    "\n",
    "# 그래프에서 마이너스 폰트 깨지는 문제에 대한 대처\n",
    "matplotlib.rcParams['axes.unicode_minus'] = False\n",
    "\n",
    "# 한글 폰트 설정\n",
    "plt.rcParams[\"font.family\"] = 'AppleGothic'\n",
    "\n",
    "import mglearn"
   ]
  },
  {
   "cell_type": "code",
   "execution_count": 2,
   "metadata": {
    "collapsed": true
   },
   "outputs": [],
   "source": [
    "X = np.array([[0, 1, 0, 1],\n",
    "             [1, 0, 1, 1],\n",
    "             [0, 0, 0, 1],\n",
    "             [1, 0, 1, 0]])\n",
    "y = np.array([0, 1, 0, 1])"
   ]
  },
  {
   "cell_type": "code",
   "execution_count": 8,
   "metadata": {
    "collapsed": false
   },
   "outputs": [
    {
     "name": "stdout",
     "output_type": "stream",
     "text": [
      "[[0 1 0 1]\n",
      " [0 0 0 1]]\n",
      "[ True False  True False]\n",
      "[[1 0 1 1]\n",
      " [1 0 1 0]]\n",
      "[False  True False  True]\n",
      "특성 카운트:\n",
      "{0: array([0, 1, 0, 2]), 1: array([2, 0, 2, 1])}\n"
     ]
    }
   ],
   "source": [
    "counts = {}\n",
    "for label in np.unique(y):\n",
    "    print(X[y == label])\n",
    "    counts[label] = X[y == label].sum(axis=0)\n",
    "    print(y==label)\n",
    "print('특성 카운트:\\n{}'.format(counts))"
   ]
  },
  {
   "cell_type": "code",
   "execution_count": null,
   "metadata": {
    "collapsed": true
   },
   "outputs": [],
   "source": []
  }
 ],
 "metadata": {
  "kernelspec": {
   "display_name": "Python 3",
   "language": "python",
   "name": "python3"
  },
  "language_info": {
   "codemirror_mode": {
    "name": "ipython",
    "version": 3
   },
   "file_extension": ".py",
   "mimetype": "text/x-python",
   "name": "python",
   "nbconvert_exporter": "python",
   "pygments_lexer": "ipython3",
   "version": "3.5.3"
  }
 },
 "nbformat": 4,
 "nbformat_minor": 2
}
